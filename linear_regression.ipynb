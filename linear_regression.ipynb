{
  "nbformat": 4,
  "nbformat_minor": 0,
  "metadata": {
    "colab": {
      "name": "linear_regression.ipynb",
      "provenance": [],
      "collapsed_sections": [],
      "authorship_tag": "ABX9TyPaDZd5HmF71xJ5HJ35jg7A",
      "include_colab_link": true
    },
    "kernelspec": {
      "name": "python3",
      "display_name": "Python 3"
    }
  },
  "cells": [
    {
      "cell_type": "markdown",
      "metadata": {
        "id": "view-in-github",
        "colab_type": "text"
      },
      "source": [
        "<a href=\"https://colab.research.google.com/github/gbaser54/linear-regression-housing-data-salary/blob/master/linear_regression.ipynb\" target=\"_parent\"><img src=\"https://colab.research.google.com/assets/colab-badge.svg\" alt=\"Open In Colab\"/></a>"
      ]
    },
    {
      "cell_type": "code",
      "metadata": {
        "id": "ze4YYTsbv_AE",
        "colab_type": "code",
        "colab": {}
      },
      "source": [
        "\n",
        "import numpy as np\n",
        "import matplotlib.pyplot as plt\n",
        "from sklearn.datasets import make_regression"
      ],
      "execution_count": null,
      "outputs": []
    },
    {
      "cell_type": "code",
      "metadata": {
        "id": "0yk0ZeFswG68",
        "colab_type": "code",
        "colab": {}
      },
      "source": [
        "\n",
        "bias = 200\n",
        "X, y, coef = make_regression(n_features=1, noise=10, bias=bias, random_state=42, coef=True)"
      ],
      "execution_count": null,
      "outputs": []
    },
    {
      "cell_type": "code",
      "metadata": {
        "id": "M_kjZfguwckq",
        "colab_type": "code",
        "colab": {
          "base_uri": "https://localhost:8080/",
          "height": 34
        },
        "outputId": "2262f958-9d95-427f-983b-50c6ba813302"
      },
      "source": [
        "X.shape, y.shape"
      ],
      "execution_count": null,
      "outputs": [
        {
          "output_type": "execute_result",
          "data": {
            "text/plain": [
              "((100, 1), (100,))"
            ]
          },
          "metadata": {
            "tags": []
          },
          "execution_count": 7
        }
      ]
    },
    {
      "cell_type": "code",
      "metadata": {
        "id": "lrDSHEkhwkAV",
        "colab_type": "code",
        "colab": {
          "base_uri": "https://localhost:8080/",
          "height": 34
        },
        "outputId": "3f168804-c294-4c7f-b472-4f22650f8d06"
      },
      "source": [
        "\n",
        "coef, bias # here i have m and c from sklearn"
      ],
      "execution_count": null,
      "outputs": [
        {
          "output_type": "execute_result",
          "data": {
            "text/plain": [
              "(array(41.74110031), 200)"
            ]
          },
          "metadata": {
            "tags": []
          },
          "execution_count": 8
        }
      ]
    },
    {
      "cell_type": "code",
      "metadata": {
        "id": "RJjywhHNxFxL",
        "colab_type": "code",
        "colab": {}
      },
      "source": [
        "\n",
        "y_gen = X * coef + bias # equation of line"
      ],
      "execution_count": null,
      "outputs": []
    },
    {
      "cell_type": "code",
      "metadata": {
        "id": "bxdREwlSxLNZ",
        "colab_type": "code",
        "colab": {
          "base_uri": "https://localhost:8080/",
          "height": 282
        },
        "outputId": "2197796d-b0f9-4f2e-b4ad-7594bd5717f6"
      },
      "source": [
        "plt.scatter(X, y)\n",
        "plt.plot(X, y_gen)"
      ],
      "execution_count": null,
      "outputs": [
        {
          "output_type": "execute_result",
          "data": {
            "text/plain": [
              "[<matplotlib.lines.Line2D at 0x7ff895a889b0>]"
            ]
          },
          "metadata": {
            "tags": []
          },
          "execution_count": 10
        },
        {
          "output_type": "display_data",
          "data": {
            "image/png": "[encoded data removed]",
            "text/plain": [
              "<Figure size 432x288 with 1 Axes>"
            ]
          },
          "metadata": {
            "tags": [],
            "needs_background": "light"
          }
        }
      ]
    },
    {
      "cell_type": "code",
      "metadata": {
        "id": "n3WUm1-86K6m",
        "colab_type": "code",
        "colab": {}
      },
      "source": [
        "# lets plot a line using Linear Regression"
      ],
      "execution_count": null,
      "outputs": []
    },
    {
      "cell_type": "code",
      "metadata": {
        "id": "iGDsALHW6Qr7",
        "colab_type": "code",
        "colab": {}
      },
      "source": [
        "from sklearn.linear_model import LinearRegression"
      ],
      "execution_count": null,
      "outputs": []
    },
    {
      "cell_type": "code",
      "metadata": {
        "id": "uJD9flKJ6cFG",
        "colab_type": "code",
        "colab": {}
      },
      "source": [
        "\n",
        "model = LinearRegression()"
      ],
      "execution_count": null,
      "outputs": []
    },
    {
      "cell_type": "code",
      "metadata": {
        "id": "DthJSI4c6gt8",
        "colab_type": "code",
        "colab": {
          "base_uri": "https://localhost:8080/",
          "height": 34
        },
        "outputId": "4afc40ec-d078-4f8e-8314-05717f68d900"
      },
      "source": [
        "model.fit(X, y)\n",
        "# work during training? figuring out coef & intercept"
      ],
      "execution_count": null,
      "outputs": [
        {
          "output_type": "execute_result",
          "data": {
            "text/plain": [
              "LinearRegression(copy_X=True, fit_intercept=True, n_jobs=None, normalize=False)"
            ]
          },
          "metadata": {
            "tags": []
          },
          "execution_count": 14
        }
      ]
    },
    {
      "cell_type": "code",
      "metadata": {
        "id": "njSCh-5T6pfd",
        "colab_type": "code",
        "colab": {
          "base_uri": "https://localhost:8080/",
          "height": 34
        },
        "outputId": "e7d6ff31-8a45-4de8-c57e-1659b2e43720"
      },
      "source": [
        "model.coef_, model.intercept_"
      ],
      "execution_count": null,
      "outputs": [
        {
          "output_type": "execute_result",
          "data": {
            "text/plain": [
              "(array([44.43716999]), 201.16511532052695)"
            ]
          },
          "metadata": {
            "tags": []
          },
          "execution_count": 15
        }
      ]
    },
    {
      "cell_type": "code",
      "metadata": {
        "id": "wyPojxl574rq",
        "colab_type": "code",
        "colab": {
          "base_uri": "https://localhost:8080/",
          "height": 282
        },
        "outputId": "a357928a-a50e-4c63-b1de-83c39c80068f"
      },
      "source": [
        "plt.scatter(X, y)\n",
        "plt.plot(X, y_gen, label=\"Pre\")\n",
        "plt.plot(X, model.predict(X), label=\"LR\")\n",
        "plt.legend()"
      ],
      "execution_count": null,
      "outputs": [
        {
          "output_type": "execute_result",
          "data": {
            "text/plain": [
              "<matplotlib.legend.Legend at 0x7ff893916b38>"
            ]
          },
          "metadata": {
            "tags": []
          },
          "execution_count": 16
        },
        {
          "output_type": "display_data",
          "data": {
            "image/png": "[encoded data removed]",
            "text/plain": [
              "<Figure size 432x288 with 1 Axes>"
            ]
          },
          "metadata": {
            "tags": [],
            "needs_background": "light"
          }
        }
      ]
    },
    {
      "cell_type": "code",
      "metadata": {
        "id": "eFbuwBycOlpA",
        "colab_type": "code",
        "colab": {}
      },
      "source": [
        "class LinearRegCustom:\n",
        "   # constructor\n",
        "    def __init__(self, lr=0.1):\n",
        "        self.lr = lr\n",
        "    \n",
        "    # training function i.e. fit\n",
        "    def fit(self, X, y):\n",
        "        self._X = X # _X mock behavior like private\n",
        "        self._y = y.reshape(-1, 1) # do calculations, else it will give error due to some numpy shape\n",
        "        \n",
        "        # need to figure out value of coef & intercept\n",
        "        # step 1: pick these values at random \n",
        "        self.coef_ = np.random.random()\n",
        "        self.intercept_ = np.random.random()\n",
        "        \n",
        "        # gradient descent\n",
        "        errors = []\n",
        "        \n",
        "        # lets say we do this 50 times\n",
        "        for i in range(50):\n",
        "            self.gradient_decend()\n",
        "            errors.append(self.error())\n",
        "        return errors\n",
        "    \n",
        "    def gradient_decend(self):\n",
        "        # change in coef and intercept\n",
        "        d_coef, d_intercept = self.gradient()\n",
        "        self.coef_ -= d_coef * self.lr\n",
        "        self.intercept_ -= d_intercept * self.lr\n",
        "    \n",
        "    def gradient(self):\n",
        "        yh = self.predict(self._X) # from predict function\n",
        "        \n",
        "        d_coef = ((yh - self._y) * self._X).mean()\n",
        "        d_intercept = (yh - self._y).mean()\n",
        "        \n",
        "        return d_coef, d_intercept\n",
        "    \n",
        "    def predict(self, X):\n",
        "        return X * self.coef_ + self.intercept_\n",
        "    \n",
        "    def error(self):\n",
        "        return ((self.predict(self._X) - self._y) ** 2).sum()"
      ],
      "execution_count": null,
      "outputs": []
    },
    {
      "cell_type": "code",
      "metadata": {
        "id": "aCN1paqOzTAt",
        "colab_type": "code",
        "colab": {}
      },
      "source": [
        "model = LinearRegCustom(lr=.1)"
      ],
      "execution_count": null,
      "outputs": []
    },
    {
      "cell_type": "code",
      "metadata": {
        "id": "fm1uMG4yzXJT",
        "colab_type": "code",
        "colab": {}
      },
      "source": [
        "errors = model.fit(X, y)"
      ],
      "execution_count": null,
      "outputs": []
    },
    {
      "cell_type": "code",
      "metadata": {
        "id": "FTDF8vlFzu90",
        "colab_type": "code",
        "colab": {
          "base_uri": "https://localhost:8080/",
          "height": 34
        },
        "outputId": "d5d86dac-6a79-46e7-eb8c-17d3e613b68d"
      },
      "source": [
        "(model.coef_), (model.intercept_)"
      ],
      "execution_count": null,
      "outputs": [
        {
          "output_type": "execute_result",
          "data": {
            "text/plain": [
              "(42.74248549739204, 199.66072476626945)"
            ]
          },
          "metadata": {
            "tags": []
          },
          "execution_count": 45
        }
      ]
    },
    {
      "cell_type": "code",
      "metadata": {
        "id": "Bi2Zkh7N7tsg",
        "colab_type": "code",
        "colab": {
          "base_uri": "https://localhost:8080/",
          "height": 282
        },
        "outputId": "13de3d24-426f-4d23-c4a5-3f4dfa6fece3"
      },
      "source": [
        "plt.scatter(X, y)\n",
        "plt.plot(X, y_gen, label=\"Pre\")\n",
        "plt.plot(X, model.predict(X), label=\"CLR\")\n",
        "plt.legend()"
      ],
      "execution_count": null,
      "outputs": [
        {
          "output_type": "execute_result",
          "data": {
            "text/plain": [
              "<matplotlib.legend.Legend at 0x7ff89366c208>"
            ]
          },
          "metadata": {
            "tags": []
          },
          "execution_count": 39
        },
        {
          "output_type": "display_data",
          "data": {
            "image/png": "[encoded data removed]",
            "text/plain": [
              "<Figure size 432x288 with 1 Axes>"
            ]
          },
          "metadata": {
            "tags": [],
            "needs_background": "light"
          }
        }
      ]
    },
    {
      "cell_type": "code",
      "metadata": {
        "id": "C5LSxoTxDm8H",
        "colab_type": "code",
        "colab": {
          "base_uri": "https://localhost:8080/",
          "height": 293
        },
        "outputId": "89c79fc0-390b-4833-9dda-55627e7410f7"
      },
      "source": [
        "\n",
        "plt.plot(errors)"
      ],
      "execution_count": null,
      "outputs": [
        {
          "output_type": "execute_result",
          "data": {
            "text/plain": [
              "[<matplotlib.lines.Line2D at 0x7ff8937fbcf8>]"
            ]
          },
          "metadata": {
            "tags": []
          },
          "execution_count": 40
        },
        {
          "output_type": "display_data",
          "data": {
            "image/png": "[encoded data removed]",
            "text/plain": [
              "<Figure size 432x288 with 1 Axes>"
            ]
          },
          "metadata": {
            "tags": [],
            "needs_background": "light"
          }
        }
      ]
    },
    {
      "cell_type": "code",
      "metadata": {
        "id": "ZLhnn11PUkqI",
        "colab_type": "code",
        "colab": {}
      },
      "source": [
        ""
      ],
      "execution_count": null,
      "outputs": []
    },
    {
      "cell_type": "code",
      "metadata": {
        "id": "s05MC8sAHVY9",
        "colab_type": "code",
        "colab": {}
      },
      "source": [
        ""
      ],
      "execution_count": null,
      "outputs": []
    },
    {
      "cell_type": "code",
      "metadata": {
        "id": "DIHGbxvHR0-L",
        "colab_type": "code",
        "colab": {
          "base_uri": "https://localhost:8080/",
          "height": 867
        },
        "outputId": "fcd0ae08-d12e-43b8-a223-32c8b3fe6696"
      },
      "source": [
        "errors"
      ],
      "execution_count": null,
      "outputs": [
        {
          "output_type": "execute_result",
          "data": {
            "text/plain": [
              "[3289908.706512291,\n",
              " 2688467.5519394763,\n",
              " 2198948.0350890215,\n",
              " 1800245.4776310113,\n",
              " 1475279.1572046848,\n",
              " 1210218.082962306,\n",
              " 993856.8253784815,\n",
              " 817112.1493703609,\n",
              " 672616.9277053971,\n",
              " 554392.4140117432,\n",
              " 457583.653241157,\n",
              " 378245.7801621905,\n",
              " 313171.34624712385,\n",
              " 259750.73683807207,\n",
              " 215859.28579901555,\n",
              " 179765.93789721202,\n",
              " 150059.30926259438,\n",
              " 125587.80111277397,\n",
              " 105411.06978848987,\n",
              " 88760.67777369222,\n",
              " 75008.17048435523,\n",
              " 63639.16205498185,\n",
              " 54232.28608827225,\n",
              " 46442.087187910416,\n",
              " 39985.10637891368,\n",
              " 34628.55652668358,\n",
              " 30181.09926416102,\n",
              " 26485.328091617957,\n",
              " 23411.637542798853,\n",
              " 20853.219089024125,\n",
              " 18721.973576747936,\n",
              " 16945.16971645536,\n",
              " 15462.710276059577,\n",
              " 14224.893642000145,\n",
              " 13190.579474270422,\n",
              " 12325.684247533058,\n",
              " 11601.946305422969,\n",
              " 10995.91127716664,\n",
              " 10488.09781360857,\n",
              " 10062.310996390304,\n",
              " 9705.07678469474,\n",
              " 9405.175751524996,\n",
              " 9153.258338448442,\n",
              " 8941.527095981854,\n",
              " 8763.474015403795,\n",
              " 8613.663209352715,\n",
              " 8487.55095430595,\n",
              " 8381.336541851562,\n",
              " 8291.838557496028,\n",
              " 8216.392164226432]"
            ]
          },
          "metadata": {
            "tags": []
          },
          "execution_count": 41
        }
      ]
    }
  ]
}